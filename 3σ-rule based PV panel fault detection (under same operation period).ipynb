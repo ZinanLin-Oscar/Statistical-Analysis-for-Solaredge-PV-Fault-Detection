{
 "cells": [
  {
   "cell_type": "code",
   "execution_count": null,
   "id": "4a01308a-7b74-47dd-a54b-2b3e33f5aa13",
   "metadata": {},
   "outputs": [],
   "source": [
    "import pandas as pd\n",
    "import os\n",
    "import numpy as np\n",
    "from datetime import datetime"
   ]
  },
  {
   "cell_type": "markdown",
   "id": "32586631-ba56-4d82-8eae-64fc236cee14",
   "metadata": {},
   "source": [
    "-----------"
   ]
  },
  {
   "cell_type": "code",
   "execution_count": null,
   "id": "f0eca02a-27b0-44a1-b7dd-fc48eea9ebe3",
   "metadata": {},
   "outputs": [],
   "source": [
    "# Set the folder path that storing historical crawl data\n",
    "crawl_data_folder = r'xxx'"
   ]
  },
  {
   "cell_type": "code",
   "execution_count": null,
   "id": "662ef110-69a0-4327-9c09-4e0d0dc4b595",
   "metadata": {},
   "outputs": [],
   "source": [
    "# Define a function to calculate daily energy generation for PV panels in a single station\n",
    "\n",
    "def calculate_daily_energy(file_path):             # file_path: Daily power generation CSV file for a single PV station \n",
    "    df = pd.read_csv(file_path, parse_dates=[0], index_col=[0])\n",
    "    # Calculate the daily energy for each PV panel\n",
    "    daily_energy = df.sum() / 4 / 1000\n",
    "    # Create a new dataframe with the daily energy values and the module names\n",
    "    daily_energy_df = pd.DataFrame({'Module': df.columns, 'PV generation (kWh)': daily_energy})\n",
    "    # Reset the index to start from 0\n",
    "    daily_energy_df = daily_energy_df.reset_index(drop=True)\n",
    "    return daily_energy_df"
   ]
  },
  {
   "cell_type": "code",
   "execution_count": null,
   "id": "d9eac54e-5ac4-4d8c-9a28-dc777f9964b9",
   "metadata": {},
   "outputs": [],
   "source": [
    "def sum_daily_energy(target_station, start_date, end_date):\n",
    "    # Convert start_date and end_date to Timestamp type\n",
    "    start_date = pd.to_datetime(start_date)\n",
    "    end_date = pd.to_datetime(end_date)\n",
    "    \n",
    "    # Find all date folders between start_date and end_date\n",
    "    date_folders = []\n",
    "    for folder_name in os.listdir(crawl_data_folder):\n",
    "        if os.path.isdir(os.path.join(crawl_data_folder, folder_name)):\n",
    "            try:\n",
    "                folder_date = pd.to_datetime(folder_name)\n",
    "                if start_date <= folder_date <= end_date:\n",
    "                    date_folders.append(folder_name)\n",
    "            except ValueError:\n",
    "                pass\n",
    "\n",
    "    # Find all target csv files in the date folders and calculate daily energy\n",
    "    dfs = []\n",
    "    for date_folder in date_folders:\n",
    "        folder_path = os.path.join(crawl_data_folder, date_folder)\n",
    "        for file_name in os.listdir(folder_path):\n",
    "            if file_name.endswith('.csv') and target_station in file_name:\n",
    "                file_path = os.path.join(folder_path, file_name)\n",
    "                daily_energy_df = calculate_daily_energy(file_path)\n",
    "                dfs.append(daily_energy_df)\n",
    "\n",
    "    # Sum the daily energy by module\n",
    "    result_df = pd.concat(dfs).groupby('Module').sum().reset_index()\n",
    "    return result_df"
   ]
  },
  {
   "cell_type": "code",
   "execution_count": null,
   "id": "3ebbb1a9-9911-4791-820e-1fc4c49a04cb",
   "metadata": {},
   "outputs": [],
   "source": [
    "# Define a function to find the PV panels with low energy\n",
    "def find_low_energy_pv(target_station, start_date, end_date,threshold):\n",
    "    result_df=sum_daily_energy(target_station, start_date, end_date)\n",
    "    # Calculate the mean and standard deviation of the daily energy for all PV panels\n",
    "    mean_energy = result_df['PV generation (kWh)'].mean()\n",
    "    std_energy = result_df['PV generation (kWh)'].std()\n",
    "    # Find the PV panels with energy lower than (mean - 2*std)\n",
    "    low_energy_pv = (result_df[result_df['PV generation (kWh)'] < (mean_energy - threshold * std_energy)])['Module'].tolist()\n",
    "    # Output the list of PV panels with low energy\n",
    "    print(f\"The following PV panels at {target_station} generated less energy than {threshold} standard deviations below the mean:\\n{low_energy_pv}\")"
   ]
  },
  {
   "cell_type": "markdown",
   "id": "8a11a010-3192-46c3-8bb4-c80a4dbfb8f2",
   "metadata": {},
   "source": [
    "------------"
   ]
  },
  {
   "cell_type": "markdown",
   "id": "4dae128a-6568-451d-89a3-f1d9ae79e48d",
   "metadata": {},
   "source": [
    "#### Task 2: PV panels fault detection for all power stations\n",
    "- Customized start and end time, and threshold"
   ]
  },
  {
   "cell_type": "code",
   "execution_count": null,
   "id": "95584a49-e5b4-499f-b97a-3fd1823eb869",
   "metadata": {},
   "outputs": [],
   "source": [
    "site_info = pd.read_excel(r'xxx') # Local file cotains all sites' name\n",
    "site_list= site_info['Site Name']"
   ]
  },
  {
   "cell_type": "code",
   "execution_count": null,
   "id": "b18f0925-7890-40fa-8c69-f8c8303da9f5",
   "metadata": {},
   "outputs": [],
   "source": [
    "for target_station in site_list:\n",
    "    find_low_energy_pv(target_station, start_date, end_date,threshold)"
   ]
  }
 ],
 "metadata": {
  "kernelspec": {
   "display_name": "Python 3 (ipykernel)",
   "language": "python",
   "name": "python3"
  },
  "language_info": {
   "codemirror_mode": {
    "name": "ipython",
    "version": 3
   },
   "file_extension": ".py",
   "mimetype": "text/x-python",
   "name": "python",
   "nbconvert_exporter": "python",
   "pygments_lexer": "ipython3",
   "version": "3.9.18"
  }
 },
 "nbformat": 4,
 "nbformat_minor": 5
}
