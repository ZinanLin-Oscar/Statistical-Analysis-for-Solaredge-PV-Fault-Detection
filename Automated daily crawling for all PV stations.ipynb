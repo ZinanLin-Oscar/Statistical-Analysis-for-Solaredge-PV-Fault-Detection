{
 "cells": [
  {
   "cell_type": "code",
   "execution_count": 3,
   "id": "6d4c2827-1df3-4da7-9127-9a06441227f8",
   "metadata": {},
   "outputs": [],
   "source": [
    "import requests, pickle\n",
    "from datetime import datetime\n",
    "import json, pytz\n",
    "import pandas as pd  \n",
    "\n",
    "import schedule\n",
    "import time\n",
    "import os\n",
    "import pytz\n",
    "import datetime as dt"
   ]
  },
  {
   "cell_type": "markdown",
   "id": "8db4b9c1-3b68-41fc-b112-0b7ece10f27a",
   "metadata": {},
   "source": [
    "-------------------"
   ]
  },
  {
   "cell_type": "code",
   "execution_count": null,
   "id": "f0caf048-483d-4ab7-8de2-dbdece6cdc11",
   "metadata": {},
   "outputs": [],
   "source": [
    "def download_data():\n",
    "    # Here goes the code to download the data and save it to a CSV file\n",
    "    # The CSV file should be saved in the current directory\n",
    "\n",
    "    site_info = pd.read_excel(r'Solaredge site information excel file') # Site excel file path that contains site_id and site_name information\n",
    "    site_id=site_info[\"Site ID\"]\n",
    "    site_name=site_info[\"Site Name\"]\n",
    "\n",
    "    login_url = \"https://monitoring.solaredge.com/solaredge-apigw/api/login\"\n",
    "    panels_url = \"https://monitoring.solaredge.com/solaredge-web/p/playbackData\"\n",
    "    SOLAREDGE_USER = \"xxx\" # web username\n",
    "    SOLAREDGE_PASS = \"xxx\" # web password\n",
    "\n",
    "    for n in range(len(site_id)):\n",
    "        \n",
    "        DAILY_DATA = \"4\"\n",
    "        WEEKLY_DATA = \"5\"\n",
    "\n",
    "        session = requests.session()\n",
    "        try:  # Make sure the cookie file exists\n",
    "            with open('solaredge.cookies', 'rb') as f:\n",
    "                f.close()\n",
    "        except IOError:  # Create the cookie file \n",
    "            session.post(login_url, headers = {\"Content-Type\": \"application/x-www-form-urlencoded\"}, data={\"j_username\": SOLAREDGE_USER, \"j_password\": SOLAREDGE_PASS})\n",
    "            panels = session.post(panels_url, headers = {\"Content-Type\": \"application/x-www-form-urlencoded\", \"X-CSRF-TOKEN\": session.cookies[\"CSRF-TOKEN\"]}, data={\"fieldId\": site_id[n], \"timeUnit\": DAILY_DATA})\n",
    "            with open('solaredge.cookies', 'wb') as f:\n",
    "                pickle.dump(session.cookies, f)\n",
    "                f.close()\n",
    "        with open('solaredge.cookies', 'rb') as f:\n",
    "            session.cookies.update(pickle.load(f))\n",
    "            panels = session.post(panels_url, headers = {\"Content-Type\": \"application/x-www-form-urlencoded\", \"X-CSRF-TOKEN\": session.cookies[\"CSRF-TOKEN\"]}, data={\"fieldId\": site_id[n], \"timeUnit\": DAILY_DATA})\n",
    "            if panels.status_code != 200:\n",
    "                session.post(login_url, headers = {\"Content-Type\": \"application/x-www-form-urlencoded\"}, data={\"j_username\": SOLAREDGE_USER, \"j_password\": SOLAREDGE_PASS})\n",
    "                panels = session.post(panels_url, headers = {\"Content-Type\": \"application/x-www-form-urlencoded\", \"X-CSRF-TOKEN\": session.cookies[\"CSRF-TOKEN\"]}, data={\"fieldId\": site_id[n], \"timeUnit\": DAILY_DATA})\n",
    "                if panels.status_code != 200:\n",
    "                    exit()\n",
    "                with open('solaredge.cookies', 'wb') as f:\n",
    "                    pickle.dump(s.cookies, f)\n",
    "            response = panels.content.decode(\"utf-8\").replace('\\'', '\"').replace('Array', '').replace('key', '\"key\"').replace('value', '\"value\"')\n",
    "            response = response.replace('timeUnit', '\"timeUnit\"').replace('fieldData', '\"fieldData\"').replace('reportersData', '\"reportersData\"')\n",
    "            response = json.loads(response)\n",
    "    \n",
    "            data = {}\n",
    "            for date_str in response[\"reportersData\"].keys():\n",
    "                date = datetime.strptime(date_str, '%a %b %d %H:%M:%S GMT %Y')\n",
    "                #date = pytz.timezone('Asia/Hong_Kong').localize(date).astimezone(pytz.utc)\n",
    "                for sid in response[\"reportersData\"][date_str].keys():\n",
    "                    for entry in response[\"reportersData\"][date_str][sid]:\n",
    "                        if entry[\"key\"] not in data.keys():\n",
    "                            data[entry[\"key\"]] = {}\n",
    "                        data[entry[\"key\"]][date] = float(entry[\"value\"].replace(\",\", \"\"))\n",
    "\n",
    "            df = pd.DataFrame(data)\n",
    "            for col in df.columns:\n",
    "                if df[col].max()>900:\n",
    "                    df=df.drop(col,axis=1)\n",
    "            # Save the data to a CSV file in the local directory\n",
    "            filename = site_name[n]+\".csv\"\n",
    "            df.to_csv(filename, index=True)"
   ]
  },
  {
   "cell_type": "code",
   "execution_count": null,
   "id": "2639869c-b7da-4e68-930a-9b8d2e4e815c",
   "metadata": {},
   "outputs": [],
   "source": [
    "def job():\n",
    "    # Get the current date in the timezone of Hong Kong SAR, China\n",
    "    hk_timezone = pytz.timezone('Asia/Hong_Kong')\n",
    "    today = dt.datetime.now(hk_timezone).strftime(\"%Y-%m-%d\")\n",
    "\n",
    "    # Create a folder with the current date as its name (if it doesn't exist)\n",
    "    folder_path = r\"Your local folder path to save the data\\\\\" + today\n",
    "    os.makedirs(folder_path, exist_ok=True)\n",
    "\n",
    "    # Change the current working directory to the newly created folder\n",
    "    os.chdir(folder_path)\n",
    "\n",
    "    # Download the data and save it to a CSV file\n",
    "    download_data()"
   ]
  },
  {
   "cell_type": "code",
   "execution_count": null,
   "id": "88007a06-8bbe-4d8f-8ee7-48a85625ce21",
   "metadata": {},
   "outputs": [],
   "source": [
    "# Schedule the job to run every day at 11:50 pm (in the timezone of Hong Kong SAR, China)\n",
    "schedule.every().day.at(\"23:50\").do(job)\n",
    "\n",
    "# Run the scheduled jobs\n",
    "while True:\n",
    "    schedule.run_pending()\n",
    "    time.sleep(60)"
   ]
  }
 ],
 "metadata": {
  "kernelspec": {
   "display_name": "Python 3 (ipykernel)",
   "language": "python",
   "name": "python3"
  },
  "language_info": {
   "codemirror_mode": {
    "name": "ipython",
    "version": 3
   },
   "file_extension": ".py",
   "mimetype": "text/x-python",
   "name": "python",
   "nbconvert_exporter": "python",
   "pygments_lexer": "ipython3",
   "version": "3.9.18"
  }
 },
 "nbformat": 4,
 "nbformat_minor": 5
}
